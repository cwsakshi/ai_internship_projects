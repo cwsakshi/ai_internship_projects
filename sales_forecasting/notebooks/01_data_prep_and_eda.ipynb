{
 "cells": [
  {
   "cell_type": "markdown",
   "id": "18eaf70e",
   "metadata": {},
   "source": [
    "# 01 — Data Prep & EDA\n",
    "\n",
    "Explore the sales time series: trends, seasonality, promotions, and holidays."
   ]
  },
  {
   "cell_type": "code",
   "execution_count": null,
   "id": "c9128e03",
   "metadata": {},
   "outputs": [],
   "source": [
    "import pandas as pd\n",
    "import numpy as np\n",
    "import matplotlib.pyplot as plt\n",
    "from statsmodels.tsa.seasonal import seasonal_decompose\n",
    "from pathlib import Path\n",
    "\n",
    "DATA_PATH = Path('../data/sales_synthetic.csv')\n",
    "df = pd.read_csv(DATA_PATH, parse_dates=['Date'])\n",
    "df = df.sort_values('Date').set_index('Date')\n",
    "\n",
    "print(df.head())\n",
    "print(df.describe())\n",
    "\n",
    "# Plot raw series\n",
    "df['Sales'].plot(title='Daily Sales')\n",
    "plt.ylabel('Sales')\n",
    "plt.show()\n",
    "\n",
    "# Weekly average view\n",
    "df['Sales'].resample('W').mean().plot(title='Weekly Avg Sales')\n",
    "plt.ylabel('Sales')\n",
    "plt.show()\n",
    "\n",
    "# Seasonal decomposition (weekly frequency ~ 7)\n",
    "res = seasonal_decompose(df['Sales'], period=7, model='additive')\n",
    "res.trend.plot(title='Trend')\n",
    "plt.show()\n",
    "res.seasonal.plot(title='Seasonality (Weekly)')\n",
    "plt.show()\n",
    "res.resid.plot(title='Residuals')\n",
    "plt.show()"
   ]
  },
  {
   "cell_type": "code",
   "execution_count": null,
   "id": "e5eda505",
   "metadata": {},
   "outputs": [],
   "source": [
    "# Save prepared series for modeling\n",
    "prepared = df.copy()\n",
    "prepared.to_csv('../data/prepared_sales.csv')\n",
    "prepared.tail()"
   ]
  }
 ],
 "metadata": {},
 "nbformat": 4,
 "nbformat_minor": 5
}
