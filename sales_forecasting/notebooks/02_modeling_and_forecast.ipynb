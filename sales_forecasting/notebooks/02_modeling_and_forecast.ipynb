{
 "cells": [
  {
   "cell_type": "markdown",
   "id": "6f12e76a",
   "metadata": {},
   "source": [
    "# 02 — Modeling & Forecast\n",
    "\n",
    "Fit SARIMAX, evaluate on a holdout set, and visualize forecast vs. actual."
   ]
  },
  {
   "cell_type": "code",
   "execution_count": null,
   "id": "814c2350",
   "metadata": {},
   "outputs": [],
   "source": [
    "import pandas as pd\n",
    "import numpy as np\n",
    "import matplotlib.pyplot as plt\n",
    "from pathlib import Path\n",
    "from statsmodels.tsa.statespace.sarimax import SARIMAX\n",
    "from sklearn.metrics import mean_absolute_error, mean_squared_error\n",
    "\n",
    "DATA_PATH = Path('../data/prepared_sales.csv')\n",
    "df = pd.read_csv(DATA_PATH, parse_dates=['Date']).set_index('Date')\n",
    "\n",
    "# Train/test split (last 60 days as test)\n",
    "train = df.iloc[:-60]\n",
    "test = df.iloc[-60:]\n",
    "\n",
    "# Exogenous regressors\n",
    "exog_cols = ['Promo','Holiday']\n",
    "exog_train = train[exog_cols]\n",
    "exog_test = test[exog_cols]\n",
    "\n",
    "# Simple SARIMAX with weekly seasonality (7)\n",
    "model = SARIMAX(train['Sales'], order=(1,1,1), seasonal_order=(1,1,1,7), exog=exog_train, enforce_stationarity=False, enforce_invertibility=False)\n",
    "res = model.fit(disp=False)\n",
    "\n",
    "# Forecast horizon = len(test)\n",
    "forecast = res.get_forecast(steps=len(test), exog=exog_test)\n",
    "fc_mean = forecast.predicted_mean\n",
    "conf_int = forecast.conf_int()\n",
    "\n",
    "# Metrics\n",
    "mae = mean_absolute_error(test['Sales'], fc_mean)\n",
    "rmse = mean_squared_error(test['Sales'], fc_mean, squared=False)\n",
    "mape = (np.abs((test['Sales'] - fc_mean) / test['Sales']).replace([np.inf, -np.inf], np.nan).dropna()).mean() * 100\n",
    "print({'MAE': mae, 'RMSE': rmse, 'MAPE_%': mape})\n",
    "\n",
    "# Plot forecast vs actual\n",
    "plt.figure()\n",
    "train['Sales'].plot(label='Train')\n",
    "test['Sales'].plot(label='Actual')\n",
    "fc_mean.plot(label='Forecast')\n",
    "plt.fill_between(conf_int.index, conf_int.iloc[:,0], conf_int.iloc[:,1], alpha=0.2)\n",
    "plt.title('Forecast vs Actual (Test Window)')\n",
    "plt.legend()\n",
    "plt.show()\n",
    "\n",
    "# Save forecast\n",
    "out = pd.DataFrame({'Date': test.index, 'Actual': test['Sales'].values, 'Forecast': fc_mean.values})\n",
    "out.to_csv('../data/forecast_vs_actual.csv', index=False)\n",
    "print('Saved ../data/forecast_vs_actual.csv')\n"
   ]
  },
  {
   "cell_type": "markdown",
   "id": "82ba19a2",
   "metadata": {},
   "source": [
    "### Notes\n",
    "- Tune (p,d,q)(P,D,Q,7) via grid search or AIC if needed.\n",
    "- Optional: Try Prophet (install `prophet`) and compare RMSE/MAPE."
   ]
  }
 ],
 "metadata": {},
 "nbformat": 4,
 "nbformat_minor": 5
}
